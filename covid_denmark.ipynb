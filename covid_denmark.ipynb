
# 🧪 Exploratory Data Analysis (EDA)

## 🔍 Overview of Dataset

- 3000 rows
- 26 columns
- Types: categorical, datetime, numerical

## 📈 Age Distribution

{
 "cells": [
  {
   "cell_type": "code",
   "execution_count": 42,
   "metadata": {},
   "outputs": [],
   "source": [
    "df = pd.read_csv(\n",
    "    'covid_related_disease_data.csv',\n",
    "    sep=',',\n",
    "    encoding='utf-8',\n",
    "    parse_dates=['Date_of_Infection', 'Date_of_Reinfection'],\n",
    "    na_values=['None', 'NA', ''],\n",
    "    dtype={'Age': 'int', 'Gender': 'category'}\n",
    ")"
   ]
  },
  {
   "cell_type": "code",
   "execution_count": 16,
   "metadata": {
    "scrolled": true
   },
   "outputs": [
    {
     "data": {
      "text/html": [
       "<div>\n",
       "<style scoped>\n",
       "    .dataframe tbody tr th:only-of-type {\n",
       "        vertical-align: middle;\n",
       "    }\n",
       "\n",
       "    .dataframe tbody tr th {\n",
       "        vertical-align: top;\n",
       "    }\n",
       "\n",
       "    .dataframe thead th {\n",
       "        text-align: right;\n",
       "    }\n",
       "</style>\n",
       "<table border=\"1\" class=\"dataframe\">\n",
       "  <thead>\n",
       "    <tr style=\"text-align: right;\">\n",
       "      <th></th>\n",
       "      <th>Patient_ID</th>\n",
       "      <th>Age</th>\n",
       "      <th>Gender</th>\n",
       "      <th>Region</th>\n",
       "      <th>Preexisting_Condition</th>\n",
       "      <th>Date_of_Infection</th>\n",
       "      <th>COVID_Strain</th>\n",
       "      <th>Symptoms</th>\n",
       "      <th>Severity</th>\n",
       "      <th>Hospitalized</th>\n",
       "      <th>...</th>\n",
       "      <th>Reinfection</th>\n",
       "      <th>Date_of_Reinfection</th>\n",
       "      <th>Vaccination_Status</th>\n",
       "      <th>Vaccine_Type</th>\n",
       "      <th>Doses_Received</th>\n",
       "      <th>Date_of_Last_Dose</th>\n",
       "      <th>Long_COVID_Symptoms</th>\n",
       "      <th>Occupation</th>\n",
       "      <th>Smoking_Status</th>\n",
       "      <th>BMI</th>\n",
       "    </tr>\n",
       "  </thead>\n",
       "  <tbody>\n",
       "    <tr>\n",
       "      <th>0</th>\n",
       "      <td>1</td>\n",
       "      <td>69</td>\n",
       "      <td>Male</td>\n",
       "      <td>Hovedstaden</td>\n",
       "      <td>Obesity</td>\n",
       "      <td>2022-06-21</td>\n",
       "      <td>Delta</td>\n",
       "      <td>Mild</td>\n",
       "      <td>Moderate</td>\n",
       "      <td>Yes</td>\n",
       "      <td>...</td>\n",
       "      <td>No</td>\n",
       "      <td>NaT</td>\n",
       "      <td>Yes</td>\n",
       "      <td>NaN</td>\n",
       "      <td>1</td>\n",
       "      <td>2022-09-22</td>\n",
       "      <td>NaN</td>\n",
       "      <td>Healthcare</td>\n",
       "      <td>Never</td>\n",
       "      <td>27.7</td>\n",
       "    </tr>\n",
       "    <tr>\n",
       "      <th>1</th>\n",
       "      <td>2</td>\n",
       "      <td>38</td>\n",
       "      <td>Male</td>\n",
       "      <td>Sjælland</td>\n",
       "      <td>Asthma</td>\n",
       "      <td>2024-02-02</td>\n",
       "      <td>XBB.1.5</td>\n",
       "      <td>Mild</td>\n",
       "      <td>Moderate</td>\n",
       "      <td>No</td>\n",
       "      <td>...</td>\n",
       "      <td>No</td>\n",
       "      <td>NaT</td>\n",
       "      <td>No</td>\n",
       "      <td>NaN</td>\n",
       "      <td>0</td>\n",
       "      <td>NaN</td>\n",
       "      <td>NaN</td>\n",
       "      <td>Healthcare</td>\n",
       "      <td>Never</td>\n",
       "      <td>21.9</td>\n",
       "    </tr>\n",
       "    <tr>\n",
       "      <th>2</th>\n",
       "      <td>3</td>\n",
       "      <td>41</td>\n",
       "      <td>Female</td>\n",
       "      <td>Syddanmark</td>\n",
       "      <td>Hypertension</td>\n",
       "      <td>2023-05-28</td>\n",
       "      <td>Beta</td>\n",
       "      <td>Mild</td>\n",
       "      <td>High</td>\n",
       "      <td>Yes</td>\n",
       "      <td>...</td>\n",
       "      <td>No</td>\n",
       "      <td>NaT</td>\n",
       "      <td>Yes</td>\n",
       "      <td>Janssen</td>\n",
       "      <td>3</td>\n",
       "      <td>2024-05-14</td>\n",
       "      <td>NaN</td>\n",
       "      <td>Unemployed</td>\n",
       "      <td>Never</td>\n",
       "      <td>22.7</td>\n",
       "    </tr>\n",
       "    <tr>\n",
       "      <th>3</th>\n",
       "      <td>4</td>\n",
       "      <td>81</td>\n",
       "      <td>Female</td>\n",
       "      <td>Hovedstaden</td>\n",
       "      <td>Asthma</td>\n",
       "      <td>2023-08-13</td>\n",
       "      <td>Delta</td>\n",
       "      <td>Severe</td>\n",
       "      <td>High</td>\n",
       "      <td>No</td>\n",
       "      <td>...</td>\n",
       "      <td>Yes</td>\n",
       "      <td>2024-08-24</td>\n",
       "      <td>Yes</td>\n",
       "      <td>AstraZeneca</td>\n",
       "      <td>1</td>\n",
       "      <td>2024-10-31</td>\n",
       "      <td>NaN</td>\n",
       "      <td>Office Worker</td>\n",
       "      <td>Never</td>\n",
       "      <td>27.7</td>\n",
       "    </tr>\n",
       "    <tr>\n",
       "      <th>4</th>\n",
       "      <td>5</td>\n",
       "      <td>50</td>\n",
       "      <td>Female</td>\n",
       "      <td>Syddanmark</td>\n",
       "      <td>Cardiovascular</td>\n",
       "      <td>2023-03-10</td>\n",
       "      <td>Delta</td>\n",
       "      <td>Mild</td>\n",
       "      <td>High</td>\n",
       "      <td>No</td>\n",
       "      <td>...</td>\n",
       "      <td>No</td>\n",
       "      <td>NaT</td>\n",
       "      <td>Yes</td>\n",
       "      <td>NaN</td>\n",
       "      <td>2</td>\n",
       "      <td>2023-07-05</td>\n",
       "      <td>NaN</td>\n",
       "      <td>Student</td>\n",
       "      <td>Never</td>\n",
       "      <td>11.9</td>\n",
       "    </tr>\n",
       "    <tr>\n",
       "      <th>...</th>\n",
       "      <td>...</td>\n",
       "      <td>...</td>\n",
       "      <td>...</td>\n",
       "      <td>...</td>\n",
       "      <td>...</td>\n",
       "      <td>...</td>\n",
       "      <td>...</td>\n",
       "      <td>...</td>\n",
       "      <td>...</td>\n",
       "      <td>...</td>\n",
       "      <td>...</td>\n",
       "      <td>...</td>\n",
       "      <td>...</td>\n",
       "      <td>...</td>\n",
       "      <td>...</td>\n",
       "      <td>...</td>\n",
       "      <td>...</td>\n",
       "      <td>...</td>\n",
       "      <td>...</td>\n",
       "      <td>...</td>\n",
       "      <td>...</td>\n",
       "    </tr>\n",
       "    <tr>\n",
       "      <th>2995</th>\n",
       "      <td>2996</td>\n",
       "      <td>43</td>\n",
       "      <td>Male</td>\n",
       "      <td>Nordjylland</td>\n",
       "      <td>Hypertension</td>\n",
       "      <td>2022-10-19</td>\n",
       "      <td>XBB.1.5</td>\n",
       "      <td>Severe</td>\n",
       "      <td>Critical</td>\n",
       "      <td>No</td>\n",
       "      <td>...</td>\n",
       "      <td>No</td>\n",
       "      <td>NaT</td>\n",
       "      <td>Yes</td>\n",
       "      <td>NaN</td>\n",
       "      <td>1</td>\n",
       "      <td>2024-09-20</td>\n",
       "      <td>NaN</td>\n",
       "      <td>Driver</td>\n",
       "      <td>Never</td>\n",
       "      <td>22.0</td>\n",
       "    </tr>\n",
       "    <tr>\n",
       "      <th>2996</th>\n",
       "      <td>2997</td>\n",
       "      <td>36</td>\n",
       "      <td>Female</td>\n",
       "      <td>Syddanmark</td>\n",
       "      <td>Obesity</td>\n",
       "      <td>2022-12-16</td>\n",
       "      <td>Omicron</td>\n",
       "      <td>Moderate</td>\n",
       "      <td>Low</td>\n",
       "      <td>No</td>\n",
       "      <td>...</td>\n",
       "      <td>No</td>\n",
       "      <td>NaT</td>\n",
       "      <td>Yes</td>\n",
       "      <td>Pfizer</td>\n",
       "      <td>2</td>\n",
       "      <td>2023-10-05</td>\n",
       "      <td>NaN</td>\n",
       "      <td>Healthcare</td>\n",
       "      <td>Never</td>\n",
       "      <td>27.8</td>\n",
       "    </tr>\n",
       "    <tr>\n",
       "      <th>2997</th>\n",
       "      <td>2998</td>\n",
       "      <td>75</td>\n",
       "      <td>Female</td>\n",
       "      <td>Sjælland</td>\n",
       "      <td>Cardiovascular</td>\n",
       "      <td>2023-09-30</td>\n",
       "      <td>Beta</td>\n",
       "      <td>Severe</td>\n",
       "      <td>Moderate</td>\n",
       "      <td>No</td>\n",
       "      <td>...</td>\n",
       "      <td>No</td>\n",
       "      <td>NaT</td>\n",
       "      <td>Yes</td>\n",
       "      <td>Moderna</td>\n",
       "      <td>3</td>\n",
       "      <td>2023-05-13</td>\n",
       "      <td>NaN</td>\n",
       "      <td>Teacher</td>\n",
       "      <td>Former</td>\n",
       "      <td>20.9</td>\n",
       "    </tr>\n",
       "    <tr>\n",
       "      <th>2998</th>\n",
       "      <td>2999</td>\n",
       "      <td>45</td>\n",
       "      <td>Female</td>\n",
       "      <td>Hovedstaden</td>\n",
       "      <td>Asthma</td>\n",
       "      <td>2023-06-06</td>\n",
       "      <td>Delta</td>\n",
       "      <td>Severe</td>\n",
       "      <td>Moderate</td>\n",
       "      <td>No</td>\n",
       "      <td>...</td>\n",
       "      <td>No</td>\n",
       "      <td>NaT</td>\n",
       "      <td>Yes</td>\n",
       "      <td>AstraZeneca</td>\n",
       "      <td>1</td>\n",
       "      <td>2024-05-13</td>\n",
       "      <td>NaN</td>\n",
       "      <td>Student</td>\n",
       "      <td>Never</td>\n",
       "      <td>19.3</td>\n",
       "    </tr>\n",
       "    <tr>\n",
       "      <th>2999</th>\n",
       "      <td>3000</td>\n",
       "      <td>83</td>\n",
       "      <td>Female</td>\n",
       "      <td>Midtjylland</td>\n",
       "      <td>Obesity</td>\n",
       "      <td>2023-09-07</td>\n",
       "      <td>XBB.1.5</td>\n",
       "      <td>Moderate</td>\n",
       "      <td>Low</td>\n",
       "      <td>No</td>\n",
       "      <td>...</td>\n",
       "      <td>No</td>\n",
       "      <td>NaT</td>\n",
       "      <td>No</td>\n",
       "      <td>NaN</td>\n",
       "      <td>0</td>\n",
       "      <td>NaN</td>\n",
       "      <td>NaN</td>\n",
       "      <td>Teacher</td>\n",
       "      <td>Former</td>\n",
       "      <td>33.0</td>\n",
       "    </tr>\n",
       "  </tbody>\n",
       "</table>\n",
       "<p>3000 rows × 26 columns</p>\n",
       "</div>"
      ],
      "text/plain": [
       "      Patient_ID  Age  Gender       Region Preexisting_Condition  \\\n",
       "0              1   69    Male  Hovedstaden               Obesity   \n",
       "1              2   38    Male     Sjælland                Asthma   \n",
       "2              3   41  Female   Syddanmark          Hypertension   \n",
       "3              4   81  Female  Hovedstaden                Asthma   \n",
       "4              5   50  Female   Syddanmark        Cardiovascular   \n",
       "...          ...  ...     ...          ...                   ...   \n",
       "2995        2996   43    Male  Nordjylland          Hypertension   \n",
       "2996        2997   36  Female   Syddanmark               Obesity   \n",
       "2997        2998   75  Female     Sjælland        Cardiovascular   \n",
       "2998        2999   45  Female  Hovedstaden                Asthma   \n",
       "2999        3000   83  Female  Midtjylland               Obesity   \n",
       "\n",
       "     Date_of_Infection COVID_Strain  Symptoms  Severity Hospitalized  ...  \\\n",
       "0           2022-06-21        Delta      Mild  Moderate          Yes  ...   \n",
       "1           2024-02-02      XBB.1.5      Mild  Moderate           No  ...   \n",
       "2           2023-05-28         Beta      Mild      High          Yes  ...   \n",
       "3           2023-08-13        Delta    Severe      High           No  ...   \n",
       "4           2023-03-10        Delta      Mild      High           No  ...   \n",
       "...                ...          ...       ...       ...          ...  ...   \n",
       "2995        2022-10-19      XBB.1.5    Severe  Critical           No  ...   \n",
       "2996        2022-12-16      Omicron  Moderate       Low           No  ...   \n",
       "2997        2023-09-30         Beta    Severe  Moderate           No  ...   \n",
       "2998        2023-06-06        Delta    Severe  Moderate           No  ...   \n",
       "2999        2023-09-07      XBB.1.5  Moderate       Low           No  ...   \n",
       "\n",
       "     Reinfection Date_of_Reinfection Vaccination_Status Vaccine_Type  \\\n",
       "0             No                 NaT                Yes          NaN   \n",
       "1             No                 NaT                 No          NaN   \n",
       "2             No                 NaT                Yes      Janssen   \n",
       "3            Yes          2024-08-24                Yes  AstraZeneca   \n",
       "4             No                 NaT                Yes          NaN   \n",
       "...          ...                 ...                ...          ...   \n",
       "2995          No                 NaT                Yes          NaN   \n",
       "2996          No                 NaT                Yes       Pfizer   \n",
       "2997          No                 NaT                Yes      Moderna   \n",
       "2998          No                 NaT                Yes  AstraZeneca   \n",
       "2999          No                 NaT                 No          NaN   \n",
       "\n",
       "     Doses_Received Date_of_Last_Dose Long_COVID_Symptoms     Occupation  \\\n",
       "0                 1        2022-09-22                 NaN     Healthcare   \n",
       "1                 0               NaN                 NaN     Healthcare   \n",
       "2                 3        2024-05-14                 NaN     Unemployed   \n",
       "3                 1        2024-10-31                 NaN  Office Worker   \n",
       "4                 2        2023-07-05                 NaN        Student   \n",
       "...             ...               ...                 ...            ...   \n",
       "2995              1        2024-09-20                 NaN         Driver   \n",
       "2996              2        2023-10-05                 NaN     Healthcare   \n",
       "2997              3        2023-05-13                 NaN        Teacher   \n",
       "2998              1        2024-05-13                 NaN        Student   \n",
       "2999              0               NaN                 NaN        Teacher   \n",
       "\n",
       "     Smoking_Status   BMI  \n",
       "0             Never  27.7  \n",
       "1             Never  21.9  \n",
       "2             Never  22.7  \n",
       "3             Never  27.7  \n",
       "4             Never  11.9  \n",
       "...             ...   ...  \n",
       "2995          Never  22.0  \n",
       "2996          Never  27.8  \n",
       "2997         Former  20.9  \n",
       "2998          Never  19.3  \n",
       "2999         Former  33.0  \n",
       "\n",
       "[3000 rows x 26 columns]"
      ]
     },
     "execution_count": 16,
     "metadata": {},
     "output_type": "execute_result"
    }
   ],
   "source": [
    "df"
   ]
  },
  {
   "cell_type": "code",
   "execution_count": 18,
   "metadata": {},
   "outputs": [
    {
     "name": "stdout",
     "output_type": "stream",
     "text": [
      "<class 'pandas.core.frame.DataFrame'>\n",
      "RangeIndex: 3000 entries, 0 to 2999\n",
      "Data columns (total 26 columns):\n",
      " #   Column                   Non-Null Count  Dtype         \n",
      "---  ------                   --------------  -----         \n",
      " 0   Patient_ID               3000 non-null   int64         \n",
      " 1   Age                      3000 non-null   int32         \n",
      " 2   Gender                   3000 non-null   category      \n",
      " 3   Region                   3000 non-null   object        \n",
      " 4   Preexisting_Condition    2531 non-null   object        \n",
      " 5   Date_of_Infection        3000 non-null   datetime64[ns]\n",
      " 6   COVID_Strain             3000 non-null   object        \n",
      " 7   Symptoms                 3000 non-null   object        \n",
      " 8   Severity                 3000 non-null   object        \n",
      " 9   Hospitalized             3000 non-null   object        \n",
      " 10  Hospital_Admission_Date  876 non-null    object        \n",
      " 11  Hospital_Discharge_Date  876 non-null    object        \n",
      " 12  ICU_Admission            3000 non-null   object        \n",
      " 13  Ventilator_Support       3000 non-null   object        \n",
      " 14  Recovered                3000 non-null   object        \n",
      " 15  Date_of_Recovery         1508 non-null   object        \n",
      " 16  Reinfection              3000 non-null   object        \n",
      " 17  Date_of_Reinfection      285 non-null    datetime64[ns]\n",
      " 18  Vaccination_Status       3000 non-null   object        \n",
      " 19  Vaccine_Type             1191 non-null   object        \n",
      " 20  Doses_Received           3000 non-null   int64         \n",
      " 21  Date_of_Last_Dose        1472 non-null   object        \n",
      " 22  Long_COVID_Symptoms      220 non-null    object        \n",
      " 23  Occupation               3000 non-null   object        \n",
      " 24  Smoking_Status           3000 non-null   object        \n",
      " 25  BMI                      3000 non-null   float64       \n",
      "dtypes: category(1), datetime64[ns](2), float64(1), int32(1), int64(2), object(19)\n",
      "memory usage: 577.4+ KB\n"
     ]
    }
   ],
   "source": [
    "df.info()\n"
   ]
  },
  {
   "cell_type": "code",
   "execution_count": 19,
   "metadata": {},
   "outputs": [
    {
     "data": {
      "text/html": [
       "<div>\n",
       "<style scoped>\n",
       "    .dataframe tbody tr th:only-of-type {\n",
       "        vertical-align: middle;\n",
       "    }\n",
       "\n",
       "    .dataframe tbody tr th {\n",
       "        vertical-align: top;\n",
       "    }\n",
       "\n",
       "    .dataframe thead th {\n",
       "        text-align: right;\n",
       "    }\n",
       "</style>\n",
       "<table border=\"1\" class=\"dataframe\">\n",
       "  <thead>\n",
       "    <tr style=\"text-align: right;\">\n",
       "      <th></th>\n",
       "      <th>Patient_ID</th>\n",
       "      <th>Age</th>\n",
       "      <th>Gender</th>\n",
       "      <th>Region</th>\n",
       "      <th>Preexisting_Condition</th>\n",
       "      <th>Date_of_Infection</th>\n",
       "      <th>COVID_Strain</th>\n",
       "      <th>Symptoms</th>\n",
       "      <th>Severity</th>\n",
       "      <th>Hospitalized</th>\n",
       "      <th>...</th>\n",
       "      <th>Reinfection</th>\n",
       "      <th>Date_of_Reinfection</th>\n",
       "      <th>Vaccination_Status</th>\n",
       "      <th>Vaccine_Type</th>\n",
       "      <th>Doses_Received</th>\n",
       "      <th>Date_of_Last_Dose</th>\n",
       "      <th>Long_COVID_Symptoms</th>\n",
       "      <th>Occupation</th>\n",
       "      <th>Smoking_Status</th>\n",
       "      <th>BMI</th>\n",
       "    </tr>\n",
       "  </thead>\n",
       "  <tbody>\n",
       "    <tr>\n",
       "      <th>count</th>\n",
       "      <td>3000.000000</td>\n",
       "      <td>3000.000000</td>\n",
       "      <td>3000</td>\n",
       "      <td>3000</td>\n",
       "      <td>2531</td>\n",
       "      <td>3000</td>\n",
       "      <td>3000</td>\n",
       "      <td>3000</td>\n",
       "      <td>3000</td>\n",
       "      <td>3000</td>\n",
       "      <td>...</td>\n",
       "      <td>3000</td>\n",
       "      <td>285</td>\n",
       "      <td>3000</td>\n",
       "      <td>1191</td>\n",
       "      <td>3000.000000</td>\n",
       "      <td>1472</td>\n",
       "      <td>220</td>\n",
       "      <td>3000</td>\n",
       "      <td>3000</td>\n",
       "      <td>3000.000000</td>\n",
       "    </tr>\n",
       "    <tr>\n",
       "      <th>unique</th>\n",
       "      <td>NaN</td>\n",
       "      <td>NaN</td>\n",
       "      <td>2</td>\n",
       "      <td>5</td>\n",
       "      <td>5</td>\n",
       "      <td>NaN</td>\n",
       "      <td>5</td>\n",
       "      <td>3</td>\n",
       "      <td>4</td>\n",
       "      <td>2</td>\n",
       "      <td>...</td>\n",
       "      <td>2</td>\n",
       "      <td>NaN</td>\n",
       "      <td>2</td>\n",
       "      <td>4</td>\n",
       "      <td>NaN</td>\n",
       "      <td>807</td>\n",
       "      <td>4</td>\n",
       "      <td>6</td>\n",
       "      <td>3</td>\n",
       "      <td>NaN</td>\n",
       "    </tr>\n",
       "    <tr>\n",
       "      <th>top</th>\n",
       "      <td>NaN</td>\n",
       "      <td>NaN</td>\n",
       "      <td>Female</td>\n",
       "      <td>Midtjylland</td>\n",
       "      <td>Cardiovascular</td>\n",
       "      <td>NaN</td>\n",
       "      <td>Beta</td>\n",
       "      <td>Severe</td>\n",
       "      <td>Moderate</td>\n",
       "      <td>No</td>\n",
       "      <td>...</td>\n",
       "      <td>No</td>\n",
       "      <td>NaN</td>\n",
       "      <td>No</td>\n",
       "      <td>Pfizer</td>\n",
       "      <td>NaN</td>\n",
       "      <td>2023-11-22</td>\n",
       "      <td>Fatigue</td>\n",
       "      <td>Student</td>\n",
       "      <td>Never</td>\n",
       "      <td>NaN</td>\n",
       "    </tr>\n",
       "    <tr>\n",
       "      <th>freq</th>\n",
       "      <td>NaN</td>\n",
       "      <td>NaN</td>\n",
       "      <td>1527</td>\n",
       "      <td>628</td>\n",
       "      <td>533</td>\n",
       "      <td>NaN</td>\n",
       "      <td>622</td>\n",
       "      <td>1012</td>\n",
       "      <td>791</td>\n",
       "      <td>2124</td>\n",
       "      <td>...</td>\n",
       "      <td>2715</td>\n",
       "      <td>NaN</td>\n",
       "      <td>1528</td>\n",
       "      <td>311</td>\n",
       "      <td>NaN</td>\n",
       "      <td>6</td>\n",
       "      <td>62</td>\n",
       "      <td>533</td>\n",
       "      <td>1019</td>\n",
       "      <td>NaN</td>\n",
       "    </tr>\n",
       "    <tr>\n",
       "      <th>mean</th>\n",
       "      <td>1500.500000</td>\n",
       "      <td>53.944000</td>\n",
       "      <td>NaN</td>\n",
       "      <td>NaN</td>\n",
       "      <td>NaN</td>\n",
       "      <td>2023-05-26 22:03:50.400000</td>\n",
       "      <td>NaN</td>\n",
       "      <td>NaN</td>\n",
       "      <td>NaN</td>\n",
       "      <td>NaN</td>\n",
       "      <td>...</td>\n",
       "      <td>NaN</td>\n",
       "      <td>2024-11-18 21:53:41.052631552</td>\n",
       "      <td>NaN</td>\n",
       "      <td>NaN</td>\n",
       "      <td>0.981667</td>\n",
       "      <td>NaN</td>\n",
       "      <td>NaN</td>\n",
       "      <td>NaN</td>\n",
       "      <td>NaN</td>\n",
       "      <td>25.096500</td>\n",
       "    </tr>\n",
       "    <tr>\n",
       "      <th>min</th>\n",
       "      <td>1.000000</td>\n",
       "      <td>18.000000</td>\n",
       "      <td>NaN</td>\n",
       "      <td>NaN</td>\n",
       "      <td>NaN</td>\n",
       "      <td>2022-05-23 00:00:00</td>\n",
       "      <td>NaN</td>\n",
       "      <td>NaN</td>\n",
       "      <td>NaN</td>\n",
       "      <td>NaN</td>\n",
       "      <td>...</td>\n",
       "      <td>NaN</td>\n",
       "      <td>2024-05-25 00:00:00</td>\n",
       "      <td>NaN</td>\n",
       "      <td>NaN</td>\n",
       "      <td>0.000000</td>\n",
       "      <td>NaN</td>\n",
       "      <td>NaN</td>\n",
       "      <td>NaN</td>\n",
       "      <td>NaN</td>\n",
       "      <td>10.200000</td>\n",
       "    </tr>\n",
       "    <tr>\n",
       "      <th>25%</th>\n",
       "      <td>750.750000</td>\n",
       "      <td>36.000000</td>\n",
       "      <td>NaN</td>\n",
       "      <td>NaN</td>\n",
       "      <td>NaN</td>\n",
       "      <td>2022-12-01 00:00:00</td>\n",
       "      <td>NaN</td>\n",
       "      <td>NaN</td>\n",
       "      <td>NaN</td>\n",
       "      <td>NaN</td>\n",
       "      <td>...</td>\n",
       "      <td>NaN</td>\n",
       "      <td>2024-08-22 00:00:00</td>\n",
       "      <td>NaN</td>\n",
       "      <td>NaN</td>\n",
       "      <td>0.000000</td>\n",
       "      <td>NaN</td>\n",
       "      <td>NaN</td>\n",
       "      <td>NaN</td>\n",
       "      <td>NaN</td>\n",
       "      <td>21.800000</td>\n",
       "    </tr>\n",
       "    <tr>\n",
       "      <th>50%</th>\n",
       "      <td>1500.500000</td>\n",
       "      <td>54.000000</td>\n",
       "      <td>NaN</td>\n",
       "      <td>NaN</td>\n",
       "      <td>NaN</td>\n",
       "      <td>2023-05-29 00:00:00</td>\n",
       "      <td>NaN</td>\n",
       "      <td>NaN</td>\n",
       "      <td>NaN</td>\n",
       "      <td>NaN</td>\n",
       "      <td>...</td>\n",
       "      <td>NaN</td>\n",
       "      <td>2024-11-20 00:00:00</td>\n",
       "      <td>NaN</td>\n",
       "      <td>NaN</td>\n",
       "      <td>0.000000</td>\n",
       "      <td>NaN</td>\n",
       "      <td>NaN</td>\n",
       "      <td>NaN</td>\n",
       "      <td>NaN</td>\n",
       "      <td>25.100000</td>\n",
       "    </tr>\n",
       "    <tr>\n",
       "      <th>75%</th>\n",
       "      <td>2250.250000</td>\n",
       "      <td>72.000000</td>\n",
       "      <td>NaN</td>\n",
       "      <td>NaN</td>\n",
       "      <td>NaN</td>\n",
       "      <td>2023-11-20 06:00:00</td>\n",
       "      <td>NaN</td>\n",
       "      <td>NaN</td>\n",
       "      <td>NaN</td>\n",
       "      <td>NaN</td>\n",
       "      <td>...</td>\n",
       "      <td>NaN</td>\n",
       "      <td>2025-02-17 00:00:00</td>\n",
       "      <td>NaN</td>\n",
       "      <td>NaN</td>\n",
       "      <td>2.000000</td>\n",
       "      <td>NaN</td>\n",
       "      <td>NaN</td>\n",
       "      <td>NaN</td>\n",
       "      <td>NaN</td>\n",
       "      <td>28.500000</td>\n",
       "    </tr>\n",
       "    <tr>\n",
       "      <th>max</th>\n",
       "      <td>3000.000000</td>\n",
       "      <td>89.000000</td>\n",
       "      <td>NaN</td>\n",
       "      <td>NaN</td>\n",
       "      <td>NaN</td>\n",
       "      <td>2024-05-21 00:00:00</td>\n",
       "      <td>NaN</td>\n",
       "      <td>NaN</td>\n",
       "      <td>NaN</td>\n",
       "      <td>NaN</td>\n",
       "      <td>...</td>\n",
       "      <td>NaN</td>\n",
       "      <td>2025-05-22 00:00:00</td>\n",
       "      <td>NaN</td>\n",
       "      <td>NaN</td>\n",
       "      <td>3.000000</td>\n",
       "      <td>NaN</td>\n",
       "      <td>NaN</td>\n",
       "      <td>NaN</td>\n",
       "      <td>NaN</td>\n",
       "      <td>44.600000</td>\n",
       "    </tr>\n",
       "    <tr>\n",
       "      <th>std</th>\n",
       "      <td>866.169729</td>\n",
       "      <td>20.872919</td>\n",
       "      <td>NaN</td>\n",
       "      <td>NaN</td>\n",
       "      <td>NaN</td>\n",
       "      <td>NaN</td>\n",
       "      <td>NaN</td>\n",
       "      <td>NaN</td>\n",
       "      <td>NaN</td>\n",
       "      <td>NaN</td>\n",
       "      <td>...</td>\n",
       "      <td>NaN</td>\n",
       "      <td>NaN</td>\n",
       "      <td>NaN</td>\n",
       "      <td>NaN</td>\n",
       "      <td>1.154025</td>\n",
       "      <td>NaN</td>\n",
       "      <td>NaN</td>\n",
       "      <td>NaN</td>\n",
       "      <td>NaN</td>\n",
       "      <td>4.898435</td>\n",
       "    </tr>\n",
       "  </tbody>\n",
       "</table>\n",
       "<p>11 rows × 26 columns</p>\n",
       "</div>"
      ],
      "text/plain": [
       "         Patient_ID          Age  Gender       Region Preexisting_Condition  \\\n",
       "count   3000.000000  3000.000000    3000         3000                  2531   \n",
       "unique          NaN          NaN       2            5                     5   \n",
       "top             NaN          NaN  Female  Midtjylland        Cardiovascular   \n",
       "freq            NaN          NaN    1527          628                   533   \n",
       "mean    1500.500000    53.944000     NaN          NaN                   NaN   \n",
       "min        1.000000    18.000000     NaN          NaN                   NaN   \n",
       "25%      750.750000    36.000000     NaN          NaN                   NaN   \n",
       "50%     1500.500000    54.000000     NaN          NaN                   NaN   \n",
       "75%     2250.250000    72.000000     NaN          NaN                   NaN   \n",
       "max     3000.000000    89.000000     NaN          NaN                   NaN   \n",
       "std      866.169729    20.872919     NaN          NaN                   NaN   \n",
       "\n",
       "                 Date_of_Infection COVID_Strain Symptoms  Severity  \\\n",
       "count                         3000         3000     3000      3000   \n",
       "unique                         NaN            5        3         4   \n",
       "top                            NaN         Beta   Severe  Moderate   \n",
       "freq                           NaN          622     1012       791   \n",
       "mean    2023-05-26 22:03:50.400000          NaN      NaN       NaN   \n",
       "min            2022-05-23 00:00:00          NaN      NaN       NaN   \n",
       "25%            2022-12-01 00:00:00          NaN      NaN       NaN   \n",
       "50%            2023-05-29 00:00:00          NaN      NaN       NaN   \n",
       "75%            2023-11-20 06:00:00          NaN      NaN       NaN   \n",
       "max            2024-05-21 00:00:00          NaN      NaN       NaN   \n",
       "std                            NaN          NaN      NaN       NaN   \n",
       "\n",
       "       Hospitalized  ... Reinfection            Date_of_Reinfection  \\\n",
       "count          3000  ...        3000                            285   \n",
       "unique            2  ...           2                            NaN   \n",
       "top              No  ...          No                            NaN   \n",
       "freq           2124  ...        2715                            NaN   \n",
       "mean            NaN  ...         NaN  2024-11-18 21:53:41.052631552   \n",
       "min             NaN  ...         NaN            2024-05-25 00:00:00   \n",
       "25%             NaN  ...         NaN            2024-08-22 00:00:00   \n",
       "50%             NaN  ...         NaN            2024-11-20 00:00:00   \n",
       "75%             NaN  ...         NaN            2025-02-17 00:00:00   \n",
       "max             NaN  ...         NaN            2025-05-22 00:00:00   \n",
       "std             NaN  ...         NaN                            NaN   \n",
       "\n",
       "       Vaccination_Status Vaccine_Type Doses_Received Date_of_Last_Dose  \\\n",
       "count                3000         1191    3000.000000              1472   \n",
       "unique                  2            4            NaN               807   \n",
       "top                    No       Pfizer            NaN        2023-11-22   \n",
       "freq                 1528          311            NaN                 6   \n",
       "mean                  NaN          NaN       0.981667               NaN   \n",
       "min                   NaN          NaN       0.000000               NaN   \n",
       "25%                   NaN          NaN       0.000000               NaN   \n",
       "50%                   NaN          NaN       0.000000               NaN   \n",
       "75%                   NaN          NaN       2.000000               NaN   \n",
       "max                   NaN          NaN       3.000000               NaN   \n",
       "std                   NaN          NaN       1.154025               NaN   \n",
       "\n",
       "       Long_COVID_Symptoms Occupation Smoking_Status          BMI  \n",
       "count                  220       3000           3000  3000.000000  \n",
       "unique                   4          6              3          NaN  \n",
       "top                Fatigue    Student          Never          NaN  \n",
       "freq                    62        533           1019          NaN  \n",
       "mean                   NaN        NaN            NaN    25.096500  \n",
       "min                    NaN        NaN            NaN    10.200000  \n",
       "25%                    NaN        NaN            NaN    21.800000  \n",
       "50%                    NaN        NaN            NaN    25.100000  \n",
       "75%                    NaN        NaN            NaN    28.500000  \n",
       "max                    NaN        NaN            NaN    44.600000  \n",
       "std                    NaN        NaN            NaN     4.898435  \n",
       "\n",
       "[11 rows x 26 columns]"
      ]
     },
     "execution_count": 19,
     "metadata": {},
     "output_type": "execute_result"
    }
   ],
   "source": [
    "df.describe(include='all') \n"
   ]
  },
  {
   "cell_type": "code",
   "execution_count": 20,
   "metadata": {
    "scrolled": true
   },
   "outputs": [
    {
     "data": {
      "text/plain": [
       "Patient_ID                    0\n",
       "Age                           0\n",
       "Gender                        0\n",
       "Region                        0\n",
       "Preexisting_Condition       469\n",
       "Date_of_Infection             0\n",
       "COVID_Strain                  0\n",
       "Symptoms                      0\n",
       "Severity                      0\n",
       "Hospitalized                  0\n",
       "Hospital_Admission_Date    2124\n",
       "Hospital_Discharge_Date    2124\n",
       "ICU_Admission                 0\n",
       "Ventilator_Support            0\n",
       "Recovered                     0\n",
       "Date_of_Recovery           1492\n",
       "Reinfection                   0\n",
       "Date_of_Reinfection        2715\n",
       "Vaccination_Status            0\n",
       "Vaccine_Type               1809\n",
       "Doses_Received                0\n",
       "Date_of_Last_Dose          1528\n",
       "Long_COVID_Symptoms        2780\n",
       "Occupation                    0\n",
       "Smoking_Status                0\n",
       "BMI                           0\n",
       "dtype: int64"
      ]
     },
     "execution_count": 20,
     "metadata": {},
     "output_type": "execute_result"
    }
   ],
   "source": [
    "df.isnull().sum()  # Conteo de valores nulos por columna"
   ]
  },
  {
   "cell_type": "code",
   "execution_count": 22,
   "metadata": {},
   "outputs": [
    {
     "data": {
      "text/plain": [
       "0"
      ]
     },
     "execution_count": 22,
     "metadata": {},
     "output_type": "execute_result"
    }
   ],
   "source": [
    "df.duplicated().sum()  # Filas duplicadas"
   ]
  },
  {
   "cell_type": "code",
   "execution_count": 24,
   "metadata": {},
   "outputs": [
    {
     "data": {
      "text/plain": [
       "Gender\n",
       "Female    1527\n",
       "Male      1473\n",
       "Name: count, dtype: int64"
      ]
     },
     "execution_count": 24,
     "metadata": {},
     "output_type": "execute_result"
    }
   ],
   "source": [
    "df['Gender'].value_counts()\n"
   ]
  },
  {
   "cell_type": "code",
   "execution_count": 25,
   "metadata": {},
   "outputs": [
    {
     "data": {
      "text/plain": [
       "Region\n",
       "Midtjylland    628\n",
       "Hovedstaden    612\n",
       "Sjælland       609\n",
       "Syddanmark     597\n",
       "Nordjylland    554\n",
       "Name: count, dtype: int64"
      ]
     },
     "execution_count": 25,
     "metadata": {},
     "output_type": "execute_result"
    }
   ],
   "source": [
    "df['Region'].value_counts()\n"
   ]
  },
  {
   "cell_type": "code",
   "execution_count": 26,
   "metadata": {},
   "outputs": [
    {
     "data": {
      "text/plain": [
       "Preexisting_Condition\n",
       "Cardiovascular    533\n",
       "Obesity           511\n",
       "Diabetes          511\n",
       "Hypertension      493\n",
       "Asthma            483\n",
       "Name: count, dtype: int64"
      ]
     },
     "execution_count": 26,
     "metadata": {},
     "output_type": "execute_result"
    }
   ],
   "source": [
    "df['Preexisting_Condition'].value_counts()\n"
   ]
  },
  {
   "cell_type": "code",
   "execution_count": 27,
   "metadata": {},
   "outputs": [
    {
     "data": {
      "text/plain": [
       "COVID_Strain\n",
       "Beta       622\n",
       "Omicron    616\n",
       "Delta      600\n",
       "XBB.1.5    583\n",
       "Alpha      579\n",
       "Name: count, dtype: int64"
      ]
     },
     "execution_count": 27,
     "metadata": {},
     "output_type": "execute_result"
    }
   ],
   "source": [
    "df['COVID_Strain'].value_counts()\n"
   ]
  },
  {
   "cell_type": "code",
   "execution_count": 29,
   "metadata": {},
   "outputs": [
    {
     "data": {
      "text/plain": [
       "Vaccination_Status\n",
       "No     1528\n",
       "Yes    1472\n",
       "Name: count, dtype: int64"
      ]
     },
     "execution_count": 29,
     "metadata": {},
     "output_type": "execute_result"
    }
   ],
   "source": [
    "df['Vaccination_Status'].value_counts()\n"
   ]
  },
  {
   "cell_type": "code",
   "execution_count": 32,
   "metadata": {},
   "outputs": [
    {
     "data": {
      "text/plain": [
       "Occupation\n",
       "Student          533\n",
       "Office Worker    503\n",
       "Unemployed       497\n",
       "Driver           492\n",
       "Teacher          491\n",
       "Healthcare       484\n",
       "Name: count, dtype: int64"
      ]
     },
     "execution_count": 32,
     "metadata": {},
     "output_type": "execute_result"
    }
   ],
   "source": [
    "df['Occupation'].value_counts()"
   ]
  },
  {
   "cell_type": "code",
   "execution_count": 35,
   "metadata": {},
   "outputs": [
    {
     "data": {
      "text/plain": [
       "Year\n",
       "2022     884\n",
       "2023    1530\n",
       "2024     586\n",
       "Name: count, dtype: int64"
      ]
     },
     "execution_count": 35,
     "metadata": {},
     "output_type": "execute_result"
    }
   ],
   "source": [
    "df['Date_of_Infection'] = pd.to_datetime(df['Date_of_Infection'])\n",
    "df['Year'] = df['Date_of_Infection'].dt.year\n",
    "df['Month'] = df['Date_of_Infection'].dt.month\n",
    "df['Year'].value_counts().sort_index()"
   ]
  },
  {
   "cell_type": "code",
   "execution_count": 38,
   "metadata": {},
   "outputs": [
    {
     "data": {
      "text/html": [
       "<div>\n",
       "<style scoped>\n",
       "    .dataframe tbody tr th:only-of-type {\n",
       "        vertical-align: middle;\n",
       "    }\n",
       "\n",
       "    .dataframe tbody tr th {\n",
       "        vertical-align: top;\n",
       "    }\n",
       "\n",
       "    .dataframe thead th {\n",
       "        text-align: right;\n",
       "    }\n",
       "</style>\n",
       "<table border=\"1\" class=\"dataframe\">\n",
       "  <thead>\n",
       "    <tr style=\"text-align: right;\">\n",
       "      <th></th>\n",
       "      <th>Age</th>\n",
       "      <th>BMI</th>\n",
       "      <th>Doses_Received</th>\n",
       "    </tr>\n",
       "  </thead>\n",
       "  <tbody>\n",
       "    <tr>\n",
       "      <th>count</th>\n",
       "      <td>3000.000000</td>\n",
       "      <td>3000.000000</td>\n",
       "      <td>3000.000000</td>\n",
       "    </tr>\n",
       "    <tr>\n",
       "      <th>mean</th>\n",
       "      <td>53.944000</td>\n",
       "      <td>25.096500</td>\n",
       "      <td>0.981667</td>\n",
       "    </tr>\n",
       "    <tr>\n",
       "      <th>std</th>\n",
       "      <td>20.872919</td>\n",
       "      <td>4.898435</td>\n",
       "      <td>1.154025</td>\n",
       "    </tr>\n",
       "    <tr>\n",
       "      <th>min</th>\n",
       "      <td>18.000000</td>\n",
       "      <td>10.200000</td>\n",
       "      <td>0.000000</td>\n",
       "    </tr>\n",
       "    <tr>\n",
       "      <th>25%</th>\n",
       "      <td>36.000000</td>\n",
       "      <td>21.800000</td>\n",
       "      <td>0.000000</td>\n",
       "    </tr>\n",
       "    <tr>\n",
       "      <th>50%</th>\n",
       "      <td>54.000000</td>\n",
       "      <td>25.100000</td>\n",
       "      <td>0.000000</td>\n",
       "    </tr>\n",
       "    <tr>\n",
       "      <th>75%</th>\n",
       "      <td>72.000000</td>\n",
       "      <td>28.500000</td>\n",
       "      <td>2.000000</td>\n",
       "    </tr>\n",
       "    <tr>\n",
       "      <th>max</th>\n",
       "      <td>89.000000</td>\n",
       "      <td>44.600000</td>\n",
       "      <td>3.000000</td>\n",
       "    </tr>\n",
       "  </tbody>\n",
       "</table>\n",
       "</div>"
      ],
      "text/plain": [
       "               Age          BMI  Doses_Received\n",
       "count  3000.000000  3000.000000     3000.000000\n",
       "mean     53.944000    25.096500        0.981667\n",
       "std      20.872919     4.898435        1.154025\n",
       "min      18.000000    10.200000        0.000000\n",
       "25%      36.000000    21.800000        0.000000\n",
       "50%      54.000000    25.100000        0.000000\n",
       "75%      72.000000    28.500000        2.000000\n",
       "max      89.000000    44.600000        3.000000"
      ]
     },
     "execution_count": 38,
     "metadata": {},
     "output_type": "execute_result"
    }
   ],
   "source": [
    "numeric_cols = ['Age', 'BMI', 'Doses_Received']\n",
    "df[numeric_cols].describe()\n"
   ]
  },
  {
   "cell_type": "code",
   "execution_count": 39,
   "metadata": {},
   "outputs": [
    {
     "data": {
      "text/html": [
       "<div>\n",
       "<style scoped>\n",
       "    .dataframe tbody tr th:only-of-type {\n",
       "        vertical-align: middle;\n",
       "    }\n",
       "\n",
       "    .dataframe tbody tr th {\n",
       "        vertical-align: top;\n",
       "    }\n",
       "\n",
       "    .dataframe thead th {\n",
       "        text-align: right;\n",
       "    }\n",
       "</style>\n",
       "<table border=\"1\" class=\"dataframe\">\n",
       "  <thead>\n",
       "    <tr style=\"text-align: right;\">\n",
       "      <th></th>\n",
       "      <th>Age</th>\n",
       "      <th>BMI</th>\n",
       "      <th>Doses_Received</th>\n",
       "    </tr>\n",
       "  </thead>\n",
       "  <tbody>\n",
       "    <tr>\n",
       "      <th>Age</th>\n",
       "      <td>1.000000</td>\n",
       "      <td>-0.019687</td>\n",
       "      <td>0.008678</td>\n",
       "    </tr>\n",
       "    <tr>\n",
       "      <th>BMI</th>\n",
       "      <td>-0.019687</td>\n",
       "      <td>1.000000</td>\n",
       "      <td>-0.015218</td>\n",
       "    </tr>\n",
       "    <tr>\n",
       "      <th>Doses_Received</th>\n",
       "      <td>0.008678</td>\n",
       "      <td>-0.015218</td>\n",
       "      <td>1.000000</td>\n",
       "    </tr>\n",
       "  </tbody>\n",
       "</table>\n",
       "</div>"
      ],
      "text/plain": [
       "                     Age       BMI  Doses_Received\n",
       "Age             1.000000 -0.019687        0.008678\n",
       "BMI            -0.019687  1.000000       -0.015218\n",
       "Doses_Received  0.008678 -0.015218        1.000000"
      ]
     },
     "execution_count": 39,
     "metadata": {},
     "output_type": "execute_result"
    }
   ],
   "source": [
    "df[numeric_cols].corr()  # Matriz de correlación"
   ]
  },
  {
   "cell_type": "code",
   "execution_count": 43,
   "metadata": {},
   "outputs": [
    {
     "data": {
      "text/html": [
       "<div>\n",
       "<style scoped>\n",
       "    .dataframe tbody tr th:only-of-type {\n",
       "        vertical-align: middle;\n",
       "    }\n",
       "\n",
       "    .dataframe tbody tr th {\n",
       "        vertical-align: top;\n",
       "    }\n",
       "\n",
       "    .dataframe thead th {\n",
       "        text-align: right;\n",
       "    }\n",
       "</style>\n",
       "<table border=\"1\" class=\"dataframe\">\n",
       "  <thead>\n",
       "    <tr style=\"text-align: right;\">\n",
       "      <th>Severity</th>\n",
       "      <th>Critical</th>\n",
       "      <th>High</th>\n",
       "      <th>Low</th>\n",
       "      <th>Moderate</th>\n",
       "      <th>All</th>\n",
       "    </tr>\n",
       "    <tr>\n",
       "      <th>Hospitalized</th>\n",
       "      <th></th>\n",
       "      <th></th>\n",
       "      <th></th>\n",
       "      <th></th>\n",
       "      <th></th>\n",
       "    </tr>\n",
       "  </thead>\n",
       "  <tbody>\n",
       "    <tr>\n",
       "      <th>No</th>\n",
       "      <td>512</td>\n",
       "      <td>550</td>\n",
       "      <td>511</td>\n",
       "      <td>551</td>\n",
       "      <td>2124</td>\n",
       "    </tr>\n",
       "    <tr>\n",
       "      <th>Yes</th>\n",
       "      <td>199</td>\n",
       "      <td>216</td>\n",
       "      <td>221</td>\n",
       "      <td>240</td>\n",
       "      <td>876</td>\n",
       "    </tr>\n",
       "    <tr>\n",
       "      <th>All</th>\n",
       "      <td>711</td>\n",
       "      <td>766</td>\n",
       "      <td>732</td>\n",
       "      <td>791</td>\n",
       "      <td>3000</td>\n",
       "    </tr>\n",
       "  </tbody>\n",
       "</table>\n",
       "</div>"
      ],
      "text/plain": [
       "Severity      Critical  High  Low  Moderate   All\n",
       "Hospitalized                                     \n",
       "No                 512   550  511       551  2124\n",
       "Yes                199   216  221       240   876\n",
       "All                711   766  732       791  3000"
      ]
     },
     "execution_count": 43,
     "metadata": {},
     "output_type": "execute_result"
    }
   ],
   "source": [
    "pd.crosstab(df['Hospitalized'], df['Severity'], margins=True)"
   ]
  },
  {
   "cell_type": "code",
   "execution_count": 44,
   "metadata": {},
   "outputs": [
    {
     "data": {
      "text/html": [
       "<div>\n",
       "<style scoped>\n",
       "    .dataframe tbody tr th:only-of-type {\n",
       "        vertical-align: middle;\n",
       "    }\n",
       "\n",
       "    .dataframe tbody tr th {\n",
       "        vertical-align: top;\n",
       "    }\n",
       "\n",
       "    .dataframe thead th {\n",
       "        text-align: right;\n",
       "    }\n",
       "</style>\n",
       "<table border=\"1\" class=\"dataframe\">\n",
       "  <thead>\n",
       "    <tr style=\"text-align: right;\">\n",
       "      <th>Vaccination_Status</th>\n",
       "      <th>No</th>\n",
       "      <th>Yes</th>\n",
       "      <th>All</th>\n",
       "    </tr>\n",
       "    <tr>\n",
       "      <th>Hospitalized</th>\n",
       "      <th></th>\n",
       "      <th></th>\n",
       "      <th></th>\n",
       "    </tr>\n",
       "  </thead>\n",
       "  <tbody>\n",
       "    <tr>\n",
       "      <th>No</th>\n",
       "      <td>1088</td>\n",
       "      <td>1036</td>\n",
       "      <td>2124</td>\n",
       "    </tr>\n",
       "    <tr>\n",
       "      <th>Yes</th>\n",
       "      <td>440</td>\n",
       "      <td>436</td>\n",
       "      <td>876</td>\n",
       "    </tr>\n",
       "    <tr>\n",
       "      <th>All</th>\n",
       "      <td>1528</td>\n",
       "      <td>1472</td>\n",
       "      <td>3000</td>\n",
       "    </tr>\n",
       "  </tbody>\n",
       "</table>\n",
       "</div>"
      ],
      "text/plain": [
       "Vaccination_Status    No   Yes   All\n",
       "Hospitalized                        \n",
       "No                  1088  1036  2124\n",
       "Yes                  440   436   876\n",
       "All                 1528  1472  3000"
      ]
     },
     "execution_count": 44,
     "metadata": {},
     "output_type": "execute_result"
    }
   ],
   "source": [
    "pd.crosstab(df['Hospitalized'], df['Vaccination_Status'], margins=True)"
   ]
  },
  {
   "cell_type": "code",
   "execution_count": 46,
   "metadata": {},
   "outputs": [
    {
     "data": {
      "text/html": [
       "<div>\n",
       "<style scoped>\n",
       "    .dataframe tbody tr th:only-of-type {\n",
       "        vertical-align: middle;\n",
       "    }\n",
       "\n",
       "    .dataframe tbody tr th {\n",
       "        vertical-align: top;\n",
       "    }\n",
       "\n",
       "    .dataframe thead th {\n",
       "        text-align: right;\n",
       "    }\n",
       "</style>\n",
       "<table border=\"1\" class=\"dataframe\">\n",
       "  <thead>\n",
       "    <tr style=\"text-align: right;\">\n",
       "      <th>Preexisting_Condition</th>\n",
       "      <th>Asthma</th>\n",
       "      <th>Cardiovascular</th>\n",
       "      <th>Diabetes</th>\n",
       "      <th>Hypertension</th>\n",
       "      <th>Obesity</th>\n",
       "      <th>All</th>\n",
       "    </tr>\n",
       "    <tr>\n",
       "      <th>Hospitalized</th>\n",
       "      <th></th>\n",
       "      <th></th>\n",
       "      <th></th>\n",
       "      <th></th>\n",
       "      <th></th>\n",
       "      <th></th>\n",
       "    </tr>\n",
       "  </thead>\n",
       "  <tbody>\n",
       "    <tr>\n",
       "      <th>No</th>\n",
       "      <td>357</td>\n",
       "      <td>365</td>\n",
       "      <td>354</td>\n",
       "      <td>363</td>\n",
       "      <td>352</td>\n",
       "      <td>1791</td>\n",
       "    </tr>\n",
       "    <tr>\n",
       "      <th>Yes</th>\n",
       "      <td>126</td>\n",
       "      <td>168</td>\n",
       "      <td>157</td>\n",
       "      <td>130</td>\n",
       "      <td>159</td>\n",
       "      <td>740</td>\n",
       "    </tr>\n",
       "    <tr>\n",
       "      <th>All</th>\n",
       "      <td>483</td>\n",
       "      <td>533</td>\n",
       "      <td>511</td>\n",
       "      <td>493</td>\n",
       "      <td>511</td>\n",
       "      <td>2531</td>\n",
       "    </tr>\n",
       "  </tbody>\n",
       "</table>\n",
       "</div>"
      ],
      "text/plain": [
       "Preexisting_Condition  Asthma  Cardiovascular  Diabetes  Hypertension  \\\n",
       "Hospitalized                                                            \n",
       "No                        357             365       354           363   \n",
       "Yes                       126             168       157           130   \n",
       "All                       483             533       511           493   \n",
       "\n",
       "Preexisting_Condition  Obesity   All  \n",
       "Hospitalized                          \n",
       "No                         352  1791  \n",
       "Yes                        159   740  \n",
       "All                        511  2531  "
      ]
     },
     "execution_count": 46,
     "metadata": {},
     "output_type": "execute_result"
    }
   ],
   "source": [
    "pd.crosstab(df['Hospitalized'], df['Preexisting_Condition'], margins=True)"
   ]
  },
  {
   "cell_type": "code",
   "execution_count": 53,
   "metadata": {},
   "outputs": [
    {
     "data": {
      "text/plain": [
       "<Axes: xlabel='Age', ylabel='Count'>"
      ]
     },
     "execution_count": 53,
     "metadata": {},
     "output_type": "execute_result"
    },
    {
     "data": {
      "image/png": "[encoded data removed]",
      "text/plain": [
       "<Figure size 640x480 with 1 Axes>"
      ]
     },
     "metadata": {},
     "output_type": "display_data"
    }
   ],
   "source": [
    "# Visualization \n",
    "# Distribución de edades por género:\n",
    "sns.histplot(data=df, x=\"Age\", hue=\"Gender\")"
   ]
  },
  {
   "cell_type": "code",
   "execution_count": 52,
   "metadata": {},
   "outputs": [
    {
     "data": {
      "text/plain": [
       "Region\n",
       "Midtjylland    628\n",
       "Hovedstaden    612\n",
       "Sjælland       609\n",
       "Syddanmark     597\n",
       "Nordjylland    554\n",
       "Name: count, dtype: int64"
      ]
     },
     "execution_count": 52,
     "metadata": {},
     "output_type": "execute_result"
    }
   ],
   "source": [
    "df['Region'].value_counts()"
   ]
  },
  {
   "cell_type": "code",
   "execution_count": 54,
   "metadata": {},
   "outputs": [
    {
     "data": {
      "text/plain": [
       "<Axes: xlabel='Region'>"
      ]
     },
     "execution_count": 54,
     "metadata": {},
     "output_type": "execute_result"
    },
    {
     "data": {
      "image/png": "[encoded data removed]",
      "text/plain": [
       "<Figure size 640x480 with 1 Axes>"
      ]
     },
     "metadata": {},
     "output_type": "display_data"
    }
   ],
   "source": [
    "# Casos por región:\n",
    "df['Region'].value_counts().plot(kind='bar')"
   ]
  },
  {
   "cell_type": "code",
   "execution_count": 56,
   "metadata": {},
   "outputs": [
    {
     "data": {
      "text/plain": [
       "<Axes: xlabel='Severity', ylabel='BMI'>"
      ]
     },
     "execution_count": 56,
     "metadata": {},
     "output_type": "execute_result"
    },
    {
     "data": {
      "image/png": "[encoded data removed]",
      "text/plain": [
       "<Figure size 640x480 with 1 Axes>"
      ]
     },
     "metadata": {},
     "output_type": "display_data"
    }
   ],
   "source": [
    "# Boxplot de BMI por severidad:\n",
    "\n",
    "sns.boxplot(x='Severity', y='BMI', data=df)"
   ]
  },
  {
   "cell_type": "code",
   "execution_count": 59,
   "metadata": {},
   "outputs": [
    {
     "data": {
      "text/plain": [
       "<Axes: title={'center': 'COVID Case By Month'}, xlabel='Month'>"
      ]
     },
     "execution_count": 59,
     "metadata": {},
     "output_type": "execute_result"
    },
    {
     "data": {
      "image/png": "[encoded data removed]",
      "text/plain": [
       "<Figure size 1200x600 with 1 Axes>"
      ]
     },
     "metadata": {},
     "output_type": "display_data"
    }
   ],
   "source": [
    "# Línea de casos por mes/año:\n",
    "df['Month'] = df['Date_of_Infection'].dt.to_period('M')\n",
    "# Ahora agrupamos por mes y graficamos\n",
    "df.groupby('Month').size().plot(kind='line', figsize=(12, 6), title='COVID Case By Month')"
   ]
  },
  {
   "cell_type": "code",
   "execution_count": 62,
   "metadata": {},
   "outputs": [
    {
     "data": {
      "text/plain": [
       "<Axes: xlabel='Year', ylabel='count'>"
      ]
     },
     "execution_count": 62,
     "metadata": {},
     "output_type": "execute_result"
    },
    {
     "data": {
      "image/png": "[encoded data removed]",
      "text/plain": [
       "<Figure size 640x480 with 1 Axes>"
      ]
     },
     "metadata": {},
     "output_type": "display_data"
    }
   ],
   "source": [
    "sns.countplot(data=df, x='Year', hue='COVID_Strain')"
   ]
  },
  {
   "cell_type": "code",
   "execution_count": 63,
   "metadata": {},
   "outputs": [
    {
     "data": {
      "text/plain": [
       "<Axes: xlabel='Doses_Received', ylabel='count'>"
      ]
     },
     "execution_count": 63,
     "metadata": {},
     "output_type": "execute_result"
    },
    {
     "data": {
      "image/png": "[encoded data removed]",
      "text/plain": [
       "<Figure size 640x480 with 1 Axes>"
      ]
     },
     "metadata": {},
     "output_type": "display_data"
    }
   ],
   "source": [
    "# Distribution of vaccine doses received by vaccination status:\n",
    "sns.countplot(x='Doses_Received', hue='Vaccination_Status', data=df)"
   ]
  },
  {
   "cell_type": "code",
   "execution_count": 65,
   "metadata": {},
   "outputs": [
    {
     "data": {
      "text/html": [
       "<div>\n",
       "<style scoped>\n",
       "    .dataframe tbody tr th:only-of-type {\n",
       "        vertical-align: middle;\n",
       "    }\n",
       "\n",
       "    .dataframe tbody tr th {\n",
       "        vertical-align: top;\n",
       "    }\n",
       "\n",
       "    .dataframe thead th {\n",
       "        text-align: right;\n",
       "    }\n",
       "</style>\n",
       "<table border=\"1\" class=\"dataframe\">\n",
       "  <thead>\n",
       "    <tr style=\"text-align: right;\">\n",
       "      <th>Preexisting_Condition</th>\n",
       "      <th>Asthma</th>\n",
       "      <th>Cardiovascular</th>\n",
       "      <th>Diabetes</th>\n",
       "      <th>Hypertension</th>\n",
       "      <th>Obesity</th>\n",
       "    </tr>\n",
       "    <tr>\n",
       "      <th>Reinfection</th>\n",
       "      <th></th>\n",
       "      <th></th>\n",
       "      <th></th>\n",
       "      <th></th>\n",
       "      <th></th>\n",
       "    </tr>\n",
       "  </thead>\n",
       "  <tbody>\n",
       "    <tr>\n",
       "      <th>No</th>\n",
       "      <td>447</td>\n",
       "      <td>481</td>\n",
       "      <td>464</td>\n",
       "      <td>438</td>\n",
       "      <td>467</td>\n",
       "    </tr>\n",
       "    <tr>\n",
       "      <th>Yes</th>\n",
       "      <td>36</td>\n",
       "      <td>52</td>\n",
       "      <td>47</td>\n",
       "      <td>55</td>\n",
       "      <td>44</td>\n",
       "    </tr>\n",
       "  </tbody>\n",
       "</table>\n",
       "</div>"
      ],
      "text/plain": [
       "Preexisting_Condition  Asthma  Cardiovascular  Diabetes  Hypertension  Obesity\n",
       "Reinfection                                                                   \n",
       "No                        447             481       464           438      467\n",
       "Yes                        36              52        47            55       44"
      ]
     },
     "execution_count": 65,
     "metadata": {},
     "output_type": "execute_result"
    }
   ],
   "source": [
    "# Reinfection by preexisting condition:\n",
    "\n",
    "pd.crosstab(df['Reinfection'], df['Preexisting_Condition'])\n"
   ]
  }
 ],
 "metadata": {
  "kernelspec": {
   "display_name": "Python 3 (ipykernel)",
   "language": "python",
   "name": "python3"
  },
  "language_info": {
   "codemirror_mode": {
    "name": "ipython",
    "version": 3
   },
   "file_extension": ".py",
   "mimetype": "text/x-python",
   "name": "python",
   "nbconvert_exporter": "python",
   "pygments_lexer": "ipython3",
   "version": "3.12.7"
  }
 },
 "nbformat": 4,
 "nbformat_minor": 4
}
